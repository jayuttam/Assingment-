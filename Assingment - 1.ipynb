{
 "cells": [
  {
   "cell_type": "code",
   "execution_count": 4,
   "id": "04577573-9f14-4a00-9e13-f2cbcaaca4cc",
   "metadata": {},
   "outputs": [],
   "source": [
    "# Q-1) Who developed python programming language?\n",
    "#      Guido Van Rossum."
   ]
  },
  {
   "cell_type": "code",
   "execution_count": 5,
   "id": "9943c31d-2be7-4ea5-bc9d-76d04fcfd52f",
   "metadata": {},
   "outputs": [],
   "source": [
    "# Q-2) Which type of programming python does support?\n",
    "#      python supports Objrct oriented programming ."
   ]
  },
  {
   "cell_type": "code",
   "execution_count": 6,
   "id": "7db406cc-3bd7-428b-9f19-05fd05a479a3",
   "metadata": {},
   "outputs": [],
   "source": [
    "# Q-3) Is python is case-sensitive when dealing with identifiers?\n",
    "#      yes its true python is case sensitive python treats upper case and lower case \n",
    "#      differently."
   ]
  },
  {
   "cell_type": "code",
   "execution_count": 7,
   "id": "189b8ba5-4435-4daf-bd87-b9e5f04c6201",
   "metadata": {},
   "outputs": [],
   "source": [
    "# Q-4) What is the python's correct extensions?\n",
    "#      '.py' is the python's correct extension."
   ]
  },
  {
   "cell_type": "code",
   "execution_count": 8,
   "id": "fb9fc17d-0a4b-4220-a098-674f496d1983",
   "metadata": {},
   "outputs": [],
   "source": [
    "# Q-5) Is python code is compiled or interpreted?\n",
    "#      Python is a interpreted language."
   ]
  },
  {
   "cell_type": "code",
   "execution_count": 1,
   "id": "df997440-f45a-4263-ba69-7d063e060698",
   "metadata": {},
   "outputs": [],
   "source": [
    "# Q-6) Name a few blocks of codes used to define the language?\n",
    "#      a module,a function body,a class defination."
   ]
  },
  {
   "cell_type": "code",
   "execution_count": 2,
   "id": "78f724d9-e77b-4238-b800-63dfddc722af",
   "metadata": {},
   "outputs": [],
   "source": [
    "# Q-7) State a character used to give single-lne comments in python?\n",
    "#      A single # character."
   ]
  },
  {
   "cell_type": "code",
   "execution_count": 3,
   "id": "f487df57-7c86-4793-a2d9-2e8917201c87",
   "metadata": {},
   "outputs": [],
   "source": [
    "# Q-8) Mention functions which can help us to find the version of python that we are currently we are working on?\n",
    "#      the function sys.version help in to find the version of python in which we are working on."
   ]
  },
  {
   "cell_type": "code",
   "execution_count": 5,
   "id": "b3b3d25c-976d-4c1b-9e48-55cb57953dfd",
   "metadata": {},
   "outputs": [],
   "source": [
    "# Q-9) Python supports the creation of anonymous functions at runtime , using a construct called ________?\n",
    "#      lambda."
   ]
  },
  {
   "cell_type": "code",
   "execution_count": 8,
   "id": "1e17f654-ef86-41be-9437-8cc18b1c822c",
   "metadata": {},
   "outputs": [],
   "source": [
    "# Q-10) What does pip stand for python?\n",
    "#      pip stands for 'preffered installer programmer'."
   ]
  },
  {
   "cell_type": "code",
   "execution_count": 9,
   "id": "d5bb8cac-f8ac-44d5-8f2d-bc7face64b97",
   "metadata": {},
   "outputs": [],
   "source": [
    "# Q-11) Mention a few built-in functions in python?\n",
    "#       print function,int functions,insert functions,type functions,append functions,extend functions."
   ]
  },
  {
   "cell_type": "code",
   "execution_count": 10,
   "id": "93ee4da8-bb25-4cc6-8808-f49cf13f33ee",
   "metadata": {},
   "outputs": [],
   "source": [
    "# Q-12) What is the maximum possibke length of an identifier in python?\n",
    "#       An identifier should have maximum 79 characters in python."
   ]
  },
  {
   "cell_type": "code",
   "execution_count": 13,
   "id": "e33a90fa-2641-4d01-96f7-1a72e23034f9",
   "metadata": {},
   "outputs": [],
   "source": [
    "# Q-13) What are the benifits of using python?\n",
    "#       the benifits of using python are:\n",
    "#        1.multipurpose language\n",
    "#        2.very productive language\n",
    "#        3.library support\n",
    "#        4.portability\n",
    "#        5.ease of use"
   ]
  },
  {
   "cell_type": "code",
   "execution_count": 14,
   "id": "d6b730a2-56aa-405f-8118-d10ab0cdd840",
   "metadata": {},
   "outputs": [],
   "source": [
    "# Q-14) How is memory managed in python?\n",
    "#       python uses the dynamic memory allocation which is managed by the heap data structure."
   ]
  },
  {
   "cell_type": "code",
   "execution_count": 15,
   "id": "bb615cde-1343-4e85-9930-5fa4ae235e8c",
   "metadata": {},
   "outputs": [],
   "source": [
    "# Q-15) How to install python on windows and set path variabkes?  \n",
    "#       The complete path of python.exe can be added by:\n",
    "        1. right-clicking this PC and going to properties.\n",
    "        2. clicking on the advanced system settings in the menu on the left.\n",
    "        3. clicking on the environmental variables button on the bottom right.\n",
    "        4. in the system variabkes section,selecting the path variables and clickingon edit. the next screen will show all the directories that are currently a part of the path variables.\n",
    "        5. clicking on new and entering python's install directo"
   ]
  },
  {
   "cell_type": "code",
   "execution_count": null,
   "id": "5325b57f-95e8-4ec1-89c8-0f2d3b919f2e",
   "metadata": {},
   "outputs": [],
   "source": [
    "# Q-16) Is identation required in python?\n",
    "#       yes indentation is required in python."
   ]
  }
 ],
 "metadata": {
  "kernelspec": {
   "display_name": "Python 3 (ipykernel)",
   "language": "python",
   "name": "python3"
  },
  "language_info": {
   "codemirror_mode": {
    "name": "ipython",
    "version": 3
   },
   "file_extension": ".py",
   "mimetype": "text/x-python",
   "name": "python",
   "nbconvert_exporter": "python",
   "pygments_lexer": "ipython3",
   "version": "3.10.6"
  }
 },
 "nbformat": 4,
 "nbformat_minor": 5
}
